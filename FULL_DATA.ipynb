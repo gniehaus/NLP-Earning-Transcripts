{
 "cells": [
  {
   "cell_type": "code",
   "execution_count": null,
   "metadata": {},
   "outputs": [],
   "source": [
    "# pip install import-ipynb\n",
    "import pandas as pd\n",
    "import numpy as np\n",
    "import sqlite3\n",
    "from sqlite3 import Error\n",
    "from datetime import datetime"
   ]
  },
  {
   "cell_type": "code",
   "execution_count": null,
   "metadata": {},
   "outputs": [],
   "source": [
    "import import_ipynb\n",
    "from Create_Labels import labels_df\n",
    "labels_df"
   ]
  },
  {
   "cell_type": "code",
   "execution_count": null,
   "metadata": {},
   "outputs": [],
   "source": [
    "database = \"transcripts1.db\"\n",
    "def create_connection(db_file):\n",
    "    \"\"\" create a database connection to the SQLite database\n",
    "        specified by db_file\n",
    "    :param db_file: database file\n",
    "    :return: Connection object or None\n",
    "    \"\"\"\n",
    "    conn = None\n",
    "    try:\n",
    "        conn = sqlite3.connect(db_file)\n",
    "        return conn\n",
    "    except Error as e:\n",
    "        print(e)\n",
    " \n",
    "    return conn\n",
    "\n"
   ]
  },
  {
   "cell_type": "code",
   "execution_count": null,
   "metadata": {},
   "outputs": [],
   "source": [
    "conn = create_connection(database)\n",
    "c = conn.cursor()"
   ]
  },
  {
   "cell_type": "code",
   "execution_count": null,
   "metadata": {},
   "outputs": [],
   "source": [
    "df = pd.read_sql_query('SELECT * FROM TRANSCRIPTS;', conn)\n",
    "print(df.shape)\n",
    "df.head()"
   ]
  },
  {
   "cell_type": "code",
   "execution_count": null,
   "metadata": {},
   "outputs": [],
   "source": [
    "for i in range(df.shape[0]):\n",
    "    df['DATE'][i] = df['DATE'][i].replace(\".\",\"\")\n",
    "    df['DATE'][i] = df['DATE'][i].replace(\",\",\"\")\n",
    "\n",
    "\n",
    "for i in range(df.shape[0]):\n",
    "    if len(df['DATE'][i]) <20:\n",
    "        try:\n",
    "            df['DATE'][i] =  datetime.strptime(df['DATE'][i].strip(), '%b %d %Y')\n",
    "        except:\n",
    "            df['DATE'][i] =  datetime.strptime(df['DATE'][i].strip(), '%B %d %Y')\n",
    "    else:\n",
    "        try:\n",
    "            df['DATE'][i] = df['DATE'][i].split(\"ending\",1)[1].strip()\n",
    "            df['DATE'][i] =  datetime.strptime(df['DATE'][i].strip(), '%b %d %Y')\n",
    "        except:\n",
    "            try:\n",
    "                df['DATE'][i] =  datetime.strptime(df['DATE'][i].strip(), '%B %d %Y')\n",
    "            except:\n",
    "                pass"
   ]
  },
  {
   "cell_type": "code",
   "execution_count": null,
   "metadata": {},
   "outputs": [],
   "source": [
    "df[\"DATE\"] = pd.to_datetime(df[\"DATE\"], errors = 'coerce')\n",
    "df.dropna(how='any', inplace = True)\n",
    "df['YEAR'] = df['DATE'].dt.year.astype(int).astype(str)\n",
    "df['MONTH'] = df['DATE'].dt.month.astype(int).astype(str)\n",
    "df['WEEK'] = df['DATE'].dt.week.astype(int).astype(str)\n",
    "df['TRANSCRIPTS'][0]"
   ]
  },
  {
   "cell_type": "code",
   "execution_count": null,
   "metadata": {},
   "outputs": [],
   "source": [
    "df['PRIMARY_KEY'] = df['TICKER'] + \"_\" + df['YEAR'] \n",
    "df.head()"
   ]
  },
  {
   "cell_type": "code",
   "execution_count": null,
   "metadata": {},
   "outputs": [],
   "source": [
    "labels_df[\"DATE\"] = pd.to_datetime(labels_df[\"date\"], errors = 'coerce')\n",
    "labels_df['YEAR'] = labels_df['DATE'].dt.year.astype(int).astype(str)\n",
    "labels_df['MONTH'] = labels_df['DATE'].dt.month.astype(int).astype(str)\n",
    "labels_df['PRIMARY_KEY'] = labels_df['tickers'] + \"_\" + labels_df['YEAR']\n",
    "labels_df.head()\n",
    "# labels_sorted  = labels_df.sort_values(by=['tickers','YEAR','MONTH'])\n",
    "# labels_sorted[\"NEXT_MONTH\"] = labels_sorted['MONTH'].shift(+1)\n",
    "# labels_sorted['PRIMARY_KEY'] = labels_sorted['tickers'] + \"_\" + labels_sorted['YEAR'] + \"_\"+ labels_sorted['MONTH']+ \"_\"+ labels_sorted['NEXT_MONTH']\n",
    "# labels_sorted.head()"
   ]
  },
  {
   "cell_type": "code",
   "execution_count": null,
   "metadata": {},
   "outputs": [],
   "source": [
    "# df_sorted  = df.sort_values(by=['TICKER','YEAR','MONTH'])\n",
    "# df_sorted[\"NEXT_MONTH\"] = df_sorted['MONTH'].shift(+1)\n",
    "# df_sorted['PRIMARY_KEY'] = df_sorted['TICKER'] + \"_\" + df_sorted['YEAR'] + \"_\"+ df_sorted['MONTH']+ \"_\"+ df_sorted['NEXT_MONTH']\n",
    "# df_sorted.head(15)"
   ]
  },
  {
   "cell_type": "code",
   "execution_count": null,
   "metadata": {},
   "outputs": [],
   "source": [
    "final_df = df.merge(labels_df, left_on='PRIMARY_KEY', right_on='PRIMARY_KEY', how = 'inner')\n",
    "final_df.shape"
   ]
  },
  {
   "cell_type": "code",
   "execution_count": null,
   "metadata": {},
   "outputs": [],
   "source": [
    "final_df['DATE_DIFF'] = final_df['DATE_y'] - final_df['DATE_x']\n",
    "final_df = final_df[final_df['DATE_DIFF'] <= pd.Timedelta(90,'D')]\n",
    "final_df = final_df[final_df['DATE_DIFF'] >= pd.Timedelta(10,'D')]\n",
    "\n",
    "final_df['TRANSCRIPT_DATE'] = final_df['DATE_x']\n",
    "final_df['RATINGS_DATE'] = final_df['DATE_y']\n",
    "final_df['KEY'] = final_df['TICKER'].astype('str') + \"_\" +  final_df['RATINGS_DATE'].astype('str')\n",
    "                                       \n",
    "final_df = final_df[['TRANSCRIPTS','TICKER','TRANSCRIPT_DATE','RATINGS_DATE','ratings','DATE_DIFF','KEY']]\n"
   ]
  },
  {
   "cell_type": "code",
   "execution_count": null,
   "metadata": {},
   "outputs": [],
   "source": [
    "print(final_df.shape[0])\n",
    "(final_df['TICKER'].astype('str') + \"_\" + final_df['RATINGS_DATE'].astype('str')).nunique()"
   ]
  },
  {
   "cell_type": "code",
   "execution_count": null,
   "metadata": {},
   "outputs": [],
   "source": [
    "final_df[final_df.duplicated(['KEY'])].sort_values(by='KEY')"
   ]
  },
  {
   "cell_type": "code",
   "execution_count": null,
   "metadata": {},
   "outputs": [],
   "source": [
    "# df[df['TICKER'] == 'AAPL']\n",
    "# labels_df[labels_df['tickers'] == 'AAPL']\n",
    "print(final_df.shape)\n",
    "final_df.sort_values(by=['TICKER','RATINGS_DATE'],inplace = True)\n",
    "final_df.drop_duplicates(subset =\"KEY\", \n",
    "                     keep = \"first\", inplace = True)\n",
    "final_df.shape"
   ]
  }
 ],
 "metadata": {
  "kernelspec": {
   "display_name": "Python 3",
   "language": "python",
   "name": "python3"
  },
  "language_info": {
   "codemirror_mode": {
    "name": "ipython",
    "version": 3
   },
   "file_extension": ".py",
   "mimetype": "text/x-python",
   "name": "python",
   "nbconvert_exporter": "python",
   "pygments_lexer": "ipython3",
   "version": "3.7.3"
  }
 },
 "nbformat": 4,
 "nbformat_minor": 2
}
