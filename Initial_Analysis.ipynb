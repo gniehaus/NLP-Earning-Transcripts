{
 "cells": [
  {
   "cell_type": "code",
   "execution_count": 9,
   "metadata": {},
   "outputs": [],
   "source": [
    "import import_ipynb\n",
    "import matplotlib.pyplot as plt\n",
    "from FULL_DATA import final_df"
   ]
  },
  {
   "cell_type": "code",
   "execution_count": 10,
   "metadata": {},
   "outputs": [
    {
     "name": "stdout",
     "output_type": "stream",
     "text": [
      "2397\n"
     ]
    },
    {
     "data": {
      "text/html": [
       "<div>\n",
       "<style scoped>\n",
       "    .dataframe tbody tr th:only-of-type {\n",
       "        vertical-align: middle;\n",
       "    }\n",
       "\n",
       "    .dataframe tbody tr th {\n",
       "        vertical-align: top;\n",
       "    }\n",
       "\n",
       "    .dataframe thead th {\n",
       "        text-align: right;\n",
       "    }\n",
       "</style>\n",
       "<table border=\"1\" class=\"dataframe\">\n",
       "  <thead>\n",
       "    <tr style=\"text-align: right;\">\n",
       "      <th></th>\n",
       "      <th>TRANSCRIPTS</th>\n",
       "      <th>TICKER</th>\n",
       "      <th>TRANSCRIPT_DATE</th>\n",
       "      <th>RATINGS_DATE</th>\n",
       "      <th>ratings</th>\n",
       "      <th>DATE_DIFF</th>\n",
       "      <th>KEY</th>\n",
       "      <th>NEXT_RATING</th>\n",
       "      <th>Rating_Change</th>\n",
       "      <th>SENTIMENT</th>\n",
       "    </tr>\n",
       "  </thead>\n",
       "  <tbody>\n",
       "    <tr>\n",
       "      <th>14588</th>\n",
       "      <td>['Image source: The Motley Fool.', 'Agilent Te...</td>\n",
       "      <td>A</td>\n",
       "      <td>2019-01-31</td>\n",
       "      <td>2019-03-29</td>\n",
       "      <td>5.000</td>\n",
       "      <td>57 days</td>\n",
       "      <td>A_2019-03-29</td>\n",
       "      <td>4.571</td>\n",
       "      <td>0.429</td>\n",
       "      <td>1</td>\n",
       "    </tr>\n",
       "    <tr>\n",
       "      <th>14585</th>\n",
       "      <td>['Image source: The Motley Fool.', 'Agilent Te...</td>\n",
       "      <td>A</td>\n",
       "      <td>2019-05-14</td>\n",
       "      <td>2019-06-28</td>\n",
       "      <td>4.867</td>\n",
       "      <td>45 days</td>\n",
       "      <td>A_2019-06-28</td>\n",
       "      <td>5.000</td>\n",
       "      <td>-0.133</td>\n",
       "      <td>-1</td>\n",
       "    </tr>\n",
       "    <tr>\n",
       "      <th>14582</th>\n",
       "      <td>['Image source: The Motley Fool.', 'Agilent Te...</td>\n",
       "      <td>A</td>\n",
       "      <td>2019-08-14</td>\n",
       "      <td>2019-09-30</td>\n",
       "      <td>4.286</td>\n",
       "      <td>47 days</td>\n",
       "      <td>A_2019-09-30</td>\n",
       "      <td>4.867</td>\n",
       "      <td>-0.581</td>\n",
       "      <td>-1</td>\n",
       "    </tr>\n",
       "    <tr>\n",
       "      <th>14579</th>\n",
       "      <td>['Image source: The Motley Fool.', 'Agilent Te...</td>\n",
       "      <td>A</td>\n",
       "      <td>2019-11-25</td>\n",
       "      <td>2019-12-31</td>\n",
       "      <td>4.067</td>\n",
       "      <td>36 days</td>\n",
       "      <td>A_2019-12-31</td>\n",
       "      <td>4.286</td>\n",
       "      <td>-0.219</td>\n",
       "      <td>-1</td>\n",
       "    </tr>\n",
       "    <tr>\n",
       "      <th>15677</th>\n",
       "      <td>['Image source: The Motley Fool.', 'ALCOA CORP...</td>\n",
       "      <td>AA</td>\n",
       "      <td>2019-04-17</td>\n",
       "      <td>2019-06-28</td>\n",
       "      <td>4.294</td>\n",
       "      <td>72 days</td>\n",
       "      <td>AA_2019-06-28</td>\n",
       "      <td>4.444</td>\n",
       "      <td>-0.150</td>\n",
       "      <td>-1</td>\n",
       "    </tr>\n",
       "    <tr>\n",
       "      <th>15674</th>\n",
       "      <td>['Image source: The Motley Fool.', 'Alcoa Corp...</td>\n",
       "      <td>AA</td>\n",
       "      <td>2019-07-17</td>\n",
       "      <td>2019-09-30</td>\n",
       "      <td>3.875</td>\n",
       "      <td>75 days</td>\n",
       "      <td>AA_2019-09-30</td>\n",
       "      <td>4.294</td>\n",
       "      <td>-0.419</td>\n",
       "      <td>-1</td>\n",
       "    </tr>\n",
       "    <tr>\n",
       "      <th>15671</th>\n",
       "      <td>['Image source: The Motley Fool.', 'Alcoa Corp...</td>\n",
       "      <td>AA</td>\n",
       "      <td>2019-10-16</td>\n",
       "      <td>2019-12-31</td>\n",
       "      <td>3.533</td>\n",
       "      <td>76 days</td>\n",
       "      <td>AA_2019-12-31</td>\n",
       "      <td>3.875</td>\n",
       "      <td>-0.342</td>\n",
       "      <td>-1</td>\n",
       "    </tr>\n",
       "    <tr>\n",
       "      <th>8306</th>\n",
       "      <td>['Image source: The Motley Fool.', 'Advance Au...</td>\n",
       "      <td>AAP</td>\n",
       "      <td>2019-08-13</td>\n",
       "      <td>2019-09-30</td>\n",
       "      <td>4.238</td>\n",
       "      <td>48 days</td>\n",
       "      <td>AAP_2019-09-30</td>\n",
       "      <td>4.364</td>\n",
       "      <td>-0.126</td>\n",
       "      <td>-1</td>\n",
       "    </tr>\n",
       "    <tr>\n",
       "      <th>8303</th>\n",
       "      <td>['Image source: The Motley Fool.', 'Advance Au...</td>\n",
       "      <td>AAP</td>\n",
       "      <td>2019-11-12</td>\n",
       "      <td>2019-12-31</td>\n",
       "      <td>4.043</td>\n",
       "      <td>49 days</td>\n",
       "      <td>AAP_2019-12-31</td>\n",
       "      <td>4.238</td>\n",
       "      <td>-0.195</td>\n",
       "      <td>-1</td>\n",
       "    </tr>\n",
       "    <tr>\n",
       "      <th>12</th>\n",
       "      <td>['Image source: The Motley Fool.', 'Apple, Inc...</td>\n",
       "      <td>AAPL</td>\n",
       "      <td>2019-01-31</td>\n",
       "      <td>2019-03-29</td>\n",
       "      <td>3.978</td>\n",
       "      <td>57 days</td>\n",
       "      <td>AAPL_2019-03-29</td>\n",
       "      <td>3.980</td>\n",
       "      <td>-0.002</td>\n",
       "      <td>-1</td>\n",
       "    </tr>\n",
       "    <tr>\n",
       "      <th>9</th>\n",
       "      <td>['Image source The Motley Fool.', 'Apple Inc.\\...</td>\n",
       "      <td>AAPL</td>\n",
       "      <td>2019-04-30</td>\n",
       "      <td>2019-06-28</td>\n",
       "      <td>3.796</td>\n",
       "      <td>59 days</td>\n",
       "      <td>AAPL_2019-06-28</td>\n",
       "      <td>3.978</td>\n",
       "      <td>-0.182</td>\n",
       "      <td>-1</td>\n",
       "    </tr>\n",
       "    <tr>\n",
       "      <th>6</th>\n",
       "      <td>['Image source: The Motley Fool.', 'Apple Inc....</td>\n",
       "      <td>AAPL</td>\n",
       "      <td>2019-07-30</td>\n",
       "      <td>2019-09-30</td>\n",
       "      <td>3.813</td>\n",
       "      <td>62 days</td>\n",
       "      <td>AAPL_2019-09-30</td>\n",
       "      <td>3.796</td>\n",
       "      <td>0.017</td>\n",
       "      <td>1</td>\n",
       "    </tr>\n",
       "    <tr>\n",
       "      <th>3</th>\n",
       "      <td>['Image source: The Motley Fool.', 'Apple Inc....</td>\n",
       "      <td>AAPL</td>\n",
       "      <td>2019-10-30</td>\n",
       "      <td>2019-12-31</td>\n",
       "      <td>3.878</td>\n",
       "      <td>62 days</td>\n",
       "      <td>AAPL_2019-12-31</td>\n",
       "      <td>3.813</td>\n",
       "      <td>0.065</td>\n",
       "      <td>1</td>\n",
       "    </tr>\n",
       "    <tr>\n",
       "      <th>17814</th>\n",
       "      <td>['Image source: The Motley Fool.', 'AbbVie Inc...</td>\n",
       "      <td>ABBV</td>\n",
       "      <td>2019-07-26</td>\n",
       "      <td>2019-09-30</td>\n",
       "      <td>4.231</td>\n",
       "      <td>66 days</td>\n",
       "      <td>ABBV_2019-09-30</td>\n",
       "      <td>3.625</td>\n",
       "      <td>0.606</td>\n",
       "      <td>1</td>\n",
       "    </tr>\n",
       "    <tr>\n",
       "      <th>17811</th>\n",
       "      <td>['Image source: The Motley Fool.', 'AbbVie Inc...</td>\n",
       "      <td>ABBV</td>\n",
       "      <td>2019-11-01</td>\n",
       "      <td>2019-12-31</td>\n",
       "      <td>4.231</td>\n",
       "      <td>60 days</td>\n",
       "      <td>ABBV_2019-12-31</td>\n",
       "      <td>4.231</td>\n",
       "      <td>0.000</td>\n",
       "      <td>0</td>\n",
       "    </tr>\n",
       "    <tr>\n",
       "      <th>16498</th>\n",
       "      <td>['Image source: The Motley Fool.', 'Amerisourc...</td>\n",
       "      <td>ABC</td>\n",
       "      <td>2019-08-01</td>\n",
       "      <td>2019-09-30</td>\n",
       "      <td>3.737</td>\n",
       "      <td>60 days</td>\n",
       "      <td>ABC_2019-09-30</td>\n",
       "      <td>3.737</td>\n",
       "      <td>0.000</td>\n",
       "      <td>0</td>\n",
       "    </tr>\n",
       "    <tr>\n",
       "      <th>16495</th>\n",
       "      <td>['Image source: The Motley Fool.', 'Amerisourc...</td>\n",
       "      <td>ABC</td>\n",
       "      <td>2019-11-07</td>\n",
       "      <td>2019-12-31</td>\n",
       "      <td>3.632</td>\n",
       "      <td>54 days</td>\n",
       "      <td>ABC_2019-12-31</td>\n",
       "      <td>3.737</td>\n",
       "      <td>-0.105</td>\n",
       "      <td>-1</td>\n",
       "    </tr>\n",
       "    <tr>\n",
       "      <th>30</th>\n",
       "      <td>['Image source: The Motley Fool.', 'Abiomed In...</td>\n",
       "      <td>ABMD</td>\n",
       "      <td>2019-08-01</td>\n",
       "      <td>2019-09-30</td>\n",
       "      <td>4.333</td>\n",
       "      <td>60 days</td>\n",
       "      <td>ABMD_2019-09-30</td>\n",
       "      <td>5.000</td>\n",
       "      <td>-0.667</td>\n",
       "      <td>-1</td>\n",
       "    </tr>\n",
       "    <tr>\n",
       "      <th>27</th>\n",
       "      <td>['Image source: The Motley Fool.', 'Abiomed In...</td>\n",
       "      <td>ABMD</td>\n",
       "      <td>2019-10-31</td>\n",
       "      <td>2019-12-31</td>\n",
       "      <td>4.111</td>\n",
       "      <td>61 days</td>\n",
       "      <td>ABMD_2019-12-31</td>\n",
       "      <td>4.333</td>\n",
       "      <td>-0.222</td>\n",
       "      <td>-1</td>\n",
       "    </tr>\n",
       "    <tr>\n",
       "      <th>17414</th>\n",
       "      <td>['Image source: The Motley Fool.', 'Abbott Lab...</td>\n",
       "      <td>ABT</td>\n",
       "      <td>2019-07-17</td>\n",
       "      <td>2019-09-30</td>\n",
       "      <td>4.652</td>\n",
       "      <td>75 days</td>\n",
       "      <td>ABT_2019-09-30</td>\n",
       "      <td>4.500</td>\n",
       "      <td>0.152</td>\n",
       "      <td>1</td>\n",
       "    </tr>\n",
       "  </tbody>\n",
       "</table>\n",
       "</div>"
      ],
      "text/plain": [
       "                                             TRANSCRIPTS TICKER  \\\n",
       "14588  ['Image source: The Motley Fool.', 'Agilent Te...      A   \n",
       "14585  ['Image source: The Motley Fool.', 'Agilent Te...      A   \n",
       "14582  ['Image source: The Motley Fool.', 'Agilent Te...      A   \n",
       "14579  ['Image source: The Motley Fool.', 'Agilent Te...      A   \n",
       "15677  ['Image source: The Motley Fool.', 'ALCOA CORP...     AA   \n",
       "15674  ['Image source: The Motley Fool.', 'Alcoa Corp...     AA   \n",
       "15671  ['Image source: The Motley Fool.', 'Alcoa Corp...     AA   \n",
       "8306   ['Image source: The Motley Fool.', 'Advance Au...    AAP   \n",
       "8303   ['Image source: The Motley Fool.', 'Advance Au...    AAP   \n",
       "12     ['Image source: The Motley Fool.', 'Apple, Inc...   AAPL   \n",
       "9      ['Image source The Motley Fool.', 'Apple Inc.\\...   AAPL   \n",
       "6      ['Image source: The Motley Fool.', 'Apple Inc....   AAPL   \n",
       "3      ['Image source: The Motley Fool.', 'Apple Inc....   AAPL   \n",
       "17814  ['Image source: The Motley Fool.', 'AbbVie Inc...   ABBV   \n",
       "17811  ['Image source: The Motley Fool.', 'AbbVie Inc...   ABBV   \n",
       "16498  ['Image source: The Motley Fool.', 'Amerisourc...    ABC   \n",
       "16495  ['Image source: The Motley Fool.', 'Amerisourc...    ABC   \n",
       "30     ['Image source: The Motley Fool.', 'Abiomed In...   ABMD   \n",
       "27     ['Image source: The Motley Fool.', 'Abiomed In...   ABMD   \n",
       "17414  ['Image source: The Motley Fool.', 'Abbott Lab...    ABT   \n",
       "\n",
       "      TRANSCRIPT_DATE RATINGS_DATE  ratings DATE_DIFF              KEY  \\\n",
       "14588      2019-01-31   2019-03-29    5.000   57 days     A_2019-03-29   \n",
       "14585      2019-05-14   2019-06-28    4.867   45 days     A_2019-06-28   \n",
       "14582      2019-08-14   2019-09-30    4.286   47 days     A_2019-09-30   \n",
       "14579      2019-11-25   2019-12-31    4.067   36 days     A_2019-12-31   \n",
       "15677      2019-04-17   2019-06-28    4.294   72 days    AA_2019-06-28   \n",
       "15674      2019-07-17   2019-09-30    3.875   75 days    AA_2019-09-30   \n",
       "15671      2019-10-16   2019-12-31    3.533   76 days    AA_2019-12-31   \n",
       "8306       2019-08-13   2019-09-30    4.238   48 days   AAP_2019-09-30   \n",
       "8303       2019-11-12   2019-12-31    4.043   49 days   AAP_2019-12-31   \n",
       "12         2019-01-31   2019-03-29    3.978   57 days  AAPL_2019-03-29   \n",
       "9          2019-04-30   2019-06-28    3.796   59 days  AAPL_2019-06-28   \n",
       "6          2019-07-30   2019-09-30    3.813   62 days  AAPL_2019-09-30   \n",
       "3          2019-10-30   2019-12-31    3.878   62 days  AAPL_2019-12-31   \n",
       "17814      2019-07-26   2019-09-30    4.231   66 days  ABBV_2019-09-30   \n",
       "17811      2019-11-01   2019-12-31    4.231   60 days  ABBV_2019-12-31   \n",
       "16498      2019-08-01   2019-09-30    3.737   60 days   ABC_2019-09-30   \n",
       "16495      2019-11-07   2019-12-31    3.632   54 days   ABC_2019-12-31   \n",
       "30         2019-08-01   2019-09-30    4.333   60 days  ABMD_2019-09-30   \n",
       "27         2019-10-31   2019-12-31    4.111   61 days  ABMD_2019-12-31   \n",
       "17414      2019-07-17   2019-09-30    4.652   75 days   ABT_2019-09-30   \n",
       "\n",
       "       NEXT_RATING  Rating_Change  SENTIMENT  \n",
       "14588        4.571          0.429          1  \n",
       "14585        5.000         -0.133         -1  \n",
       "14582        4.867         -0.581         -1  \n",
       "14579        4.286         -0.219         -1  \n",
       "15677        4.444         -0.150         -1  \n",
       "15674        4.294         -0.419         -1  \n",
       "15671        3.875         -0.342         -1  \n",
       "8306         4.364         -0.126         -1  \n",
       "8303         4.238         -0.195         -1  \n",
       "12           3.980         -0.002         -1  \n",
       "9            3.978         -0.182         -1  \n",
       "6            3.796          0.017          1  \n",
       "3            3.813          0.065          1  \n",
       "17814        3.625          0.606          1  \n",
       "17811        4.231          0.000          0  \n",
       "16498        3.737          0.000          0  \n",
       "16495        3.737         -0.105         -1  \n",
       "30           5.000         -0.667         -1  \n",
       "27           4.333         -0.222         -1  \n",
       "17414        4.500          0.152          1  "
      ]
     },
     "execution_count": 10,
     "metadata": {},
     "output_type": "execute_result"
    }
   ],
   "source": [
    "# final_df.groupby(by='TICKER').transform(lambda x: x.shift(1))\n",
    "final_df['NEXT_RATING'] = final_df.groupby('TICKER')['ratings'].shift(1)\n",
    "final_df['Rating_Change'] = (final_df['ratings']-final_df['NEXT_RATING']) \n",
    "final_df.dropna(inplace = True)\n",
    "print(final_df.shape[0])\n",
    "final_df['SENTIMENT'] = [1 if x > 0 else 0 if x ==0 else -1 for x in final_df['Rating_Change']]\n",
    "final_df.head(20)"
   ]
  },
  {
   "cell_type": "code",
   "execution_count": 11,
   "metadata": {},
   "outputs": [
    {
     "data": {
      "text/plain": [
       "-1    1071\n",
       " 1     809\n",
       " 0     517\n",
       "Name: SENTIMENT, dtype: int64"
      ]
     },
     "execution_count": 11,
     "metadata": {},
     "output_type": "execute_result"
    }
   ],
   "source": [
    "final_df['SENTIMENT'].value_counts()"
   ]
  },
  {
   "cell_type": "code",
   "execution_count": 12,
   "metadata": {},
   "outputs": [
    {
     "name": "stderr",
     "output_type": "stream",
     "text": [
      "[nltk_data] Downloading package punkt to\n",
      "[nltk_data]     C:\\Users\\grays\\AppData\\Roaming\\nltk_data...\n",
      "[nltk_data]   Package punkt is already up-to-date!\n"
     ]
    }
   ],
   "source": [
    "import nltk\n",
    "nltk.download('punkt')\n",
    "from nltk.tokenize import sent_tokenize\n",
    "from nltk.tokenize import word_tokenize\n",
    "from nltk.probability import FreqDist"
   ]
  },
  {
   "cell_type": "code",
   "execution_count": 19,
   "metadata": {},
   "outputs": [
    {
     "data": {
      "image/png": "[encoded data removed]",
      "text/plain": [
       "<Figure size 432x288 with 1 Axes>"
      ]
     },
     "metadata": {
      "needs_background": "light"
     },
     "output_type": "display_data"
    }
   ],
   "source": [
    "# final_df.reset_index(inplace = True)\n",
    "token1 = word_tokenize(final_df['TRANSCRIPTS'][0])\n",
    "fdist = FreqDist(token1)\n",
    "\n",
    "fdist.plot(40,cumulative=False)\n",
    "plt.show()"
   ]
  },
  {
   "cell_type": "code",
   "execution_count": 48,
   "metadata": {},
   "outputs": [],
   "source": [
    "from sklearn.feature_extraction.text import CountVectorizer\n",
    "from nltk.tokenize import RegexpTokenizer\n",
    "#tokenizer to remove unwanted elements from out data like symbols and numbers\n",
    "# token = RegexpTokenizer(r'[a-zA-Z0-9]+')\n",
    "cv = CountVectorizer(lowercase=True,stop_words = 'english',ngram_range = (1,1))\n",
    "text_counts= cv.fit_transform(final_df['TRANSCRIPTS'])\n"
   ]
  },
  {
   "cell_type": "code",
   "execution_count": 49,
   "metadata": {},
   "outputs": [],
   "source": [
    "from sklearn.model_selection import train_test_split\n",
    "X_train, X_test, y_train, y_test = train_test_split(\n",
    "    text_counts, final_df['SENTIMENT'], test_size=0.2, random_state=1)"
   ]
  },
  {
   "cell_type": "code",
   "execution_count": 50,
   "metadata": {},
   "outputs": [
    {
     "name": "stdout",
     "output_type": "stream",
     "text": [
      "MultinomialNB Accuracy: 0.41875\n"
     ]
    }
   ],
   "source": [
    "from sklearn.naive_bayes import MultinomialNB\n",
    "from sklearn import metrics\n",
    "clf = MultinomialNB().fit(X_train, y_train)\n",
    "predicted= clf.predict(X_test)\n",
    "print(\"MultinomialNB Accuracy:\",metrics.accuracy_score(y_test, predicted))"
   ]
  },
  {
   "cell_type": "code",
   "execution_count": 51,
   "metadata": {},
   "outputs": [
    {
     "name": "stdout",
     "output_type": "stream",
     "text": [
      "Logistic Accuracy: 0.3875\n"
     ]
    },
    {
     "name": "stderr",
     "output_type": "stream",
     "text": [
      "C:\\Users\\grays\\Anaconda3\\lib\\site-packages\\sklearn\\linear_model\\logistic.py:947: ConvergenceWarning: lbfgs failed to converge. Increase the number of iterations.\n",
      "  \"of iterations.\", ConvergenceWarning)\n"
     ]
    }
   ],
   "source": [
    "from sklearn.linear_model import LogisticRegression\n",
    "clf = LogisticRegression(random_state=0, multi_class= 'multinomial',solver = 'lbfgs',max_iter=200).fit(X_train, y_train)\n",
    "predicted = clf.predict(X_test)\n",
    "print(\"Logistic Accuracy:\",metrics.accuracy_score(y_test, predicted))"
   ]
  },
  {
   "cell_type": "code",
   "execution_count": 52,
   "metadata": {},
   "outputs": [
    {
     "name": "stderr",
     "output_type": "stream",
     "text": [
      "C:\\Users\\grays\\Anaconda3\\lib\\site-packages\\sklearn\\ensemble\\forest.py:245: FutureWarning: The default value of n_estimators will change from 10 in version 0.20 to 100 in 0.22.\n",
      "  \"10 in version 0.20 to 100 in 0.22.\", FutureWarning)\n"
     ]
    },
    {
     "name": "stdout",
     "output_type": "stream",
     "text": [
      "RF Accuracy: 0.4583333333333333\n"
     ]
    },
    {
     "data": {
      "text/plain": [
       "array([[0.4, 0.2, 0.4],\n",
       "       [0.7, 0.1, 0.2],\n",
       "       [0.4, 0.3, 0.3],\n",
       "       ...,\n",
       "       [0.6, 0.1, 0.3],\n",
       "       [0.3, 0.2, 0.5],\n",
       "       [0.3, 0.4, 0.3]])"
      ]
     },
     "execution_count": 52,
     "metadata": {},
     "output_type": "execute_result"
    }
   ],
   "source": [
    "from sklearn.ensemble import RandomForestClassifier\n",
    "clf = RandomForestClassifier(max_depth=100, random_state=1)\n",
    "clf.fit(X_train, y_train)\n",
    "predicted = clf.predict(X_test)\n",
    "print(\"RF Accuracy:\",metrics.accuracy_score(y_test, predicted))\n",
    "clf.predict_proba(X_test)"
   ]
  },
  {
   "cell_type": "code",
   "execution_count": 75,
   "metadata": {},
   "outputs": [],
   "source": [
    "from sklearn.feature_extraction.text import TfidfVectorizer\n",
    "tf=TfidfVectorizer()\n",
    "text_tf= tf.fit_transform(final_df['TRANSCRIPTS'])"
   ]
  },
  {
   "cell_type": "code",
   "execution_count": 76,
   "metadata": {},
   "outputs": [
    {
     "name": "stdout",
     "output_type": "stream",
     "text": [
      "MultinomialNB Accuracy: 0.4666666666666667\n"
     ]
    },
    {
     "name": "stderr",
     "output_type": "stream",
     "text": [
      "C:\\Users\\grays\\Anaconda3\\lib\\site-packages\\sklearn\\ensemble\\forest.py:245: FutureWarning: The default value of n_estimators will change from 10 in version 0.20 to 100 in 0.22.\n",
      "  \"10 in version 0.20 to 100 in 0.22.\", FutureWarning)\n"
     ]
    },
    {
     "name": "stdout",
     "output_type": "stream",
     "text": [
      "RF Accuracy: 0.4444444444444444\n"
     ]
    },
    {
     "data": {
      "text/plain": [
       "array([[0.5, 0.3, 0.2],\n",
       "       [0.2, 0.3, 0.5],\n",
       "       [0.5, 0.2, 0.3],\n",
       "       ...,\n",
       "       [0.6, 0.1, 0.3],\n",
       "       [0.6, 0.1, 0.3],\n",
       "       [0.3, 0.3, 0.4]])"
      ]
     },
     "execution_count": 76,
     "metadata": {},
     "output_type": "execute_result"
    }
   ],
   "source": [
    "X_train, X_test, y_train, y_test = train_test_split(\n",
    "    text_tf, final_df['SENTIMENT'], test_size=0.15, random_state=1)\n",
    "clf = MultinomialNB().fit(X_train, y_train)\n",
    "predicted= clf.predict(X_test)\n",
    "print(\"MultinomialNB Accuracy:\",metrics.accuracy_score(y_test, predicted))\n",
    "clf = RandomForestClassifier(max_depth=100, random_state=1)\n",
    "clf.fit(X_train, y_train)\n",
    "predicted = clf.predict(X_test)\n",
    "print(\"RF Accuracy:\",metrics.accuracy_score(y_test, predicted))\n",
    "clf.predict_proba(X_test)"
   ]
  }
 ],
 "metadata": {
  "kernelspec": {
   "display_name": "Python 3",
   "language": "python",
   "name": "python3"
  },
  "language_info": {
   "codemirror_mode": {
    "name": "ipython",
    "version": 3
   },
   "file_extension": ".py",
   "mimetype": "text/x-python",
   "name": "python",
   "nbconvert_exporter": "python",
   "pygments_lexer": "ipython3",
   "version": "3.7.3"
  }
 },
 "nbformat": 4,
 "nbformat_minor": 2
}
